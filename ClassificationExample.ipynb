{
  "cells": [
    {
      "cell_type": "markdown",
      "metadata": {},
      "source": [
        "Welcome to The Next Level Down – Machine Learning Fundamentals which is a component of the AI Immersion Course that will introduce some technical aspects of machine learning.\n",
        "\n",
        "So first what is this document?  .ipynbs are Juypter Notebooks.  These files are used in data science to code with data.  This Juypter notebook is in the Python programming language.  For a quick history of Python, here is a link:\n",
        "\n",
        "https://www.w3schools.com/python/python_intro.asp\n",
        "\n"
      ]
    },
    {
      "cell_type": "markdown",
      "metadata": {},
      "source": [
        "So why do we use Juypter Notebooks?  They are used because they offer an easy graphical interface that has different markdown and code blocks.  The ability to annotate and code in line via the different blocks is visually organized and appealing.  \n",
        "\n",
        "Also, as you are likely doing, they can be run via a web browser!  Using something like google colab or anaconda allows for many of the common python packages to be pre-installed and configured for use in the notebook.  \n",
        "\n",
        "One call out with Jupyter Notebooks is that they don't just support Python!  In fact they support over 40 different languages:\n",
        "\n",
        "https://jupyter.org/\n",
        "\n",
        "https://github.com/jupyter/jupyter/wiki/Jupyter-kernels\n",
        "\n",
        "including.......R, Rust, Scala, Stata, SQL, Julia, and more!  \n"
      ]
    },
    {
      "cell_type": "markdown",
      "metadata": {},
      "source": [
        "Today we are going to build a classification model.  What is a classification model?\n",
        "\n",
        "A Classification model is a model, which accepts inputs (features) and generates outputs (classifications).  \n",
        "\n",
        "What are the types of classifications models?\n",
        "\n",
        "- Binary classification (Survival- each input is mapped to one classification)\n",
        "\n",
        "- Multi-class classification (Vehicle types- each vehicle is mapped to one classification)\n",
        "\n",
        "- Multi-label classification (Photos- one photo can be mapped to multiple labels)\n",
        "\n",
        "What examples can you think of for each of the types?\n",
        "\n",
        "\n",
        "Great Google Video on classification models:\n",
        "\n",
        "https://developers.google.com/machine-learning/crash-course/classification/video-lecture\n",
        "\n"
      ]
    },
    {
      "cell_type": "code",
      "execution_count": 16,
      "metadata": {
        "id": "SYRFG9PQmGiM"
      },
      "outputs": [],
      "source": [
        "#start all imports for modules that will be used in the classification example\n",
        "\n",
        "# data processing\n",
        "import pandas as pd\n",
        "from sklearn.preprocessing import LabelEncoder\n",
        "from sklearn.model_selection import train_test_split\n",
        "from sklearn.linear_model import LogisticRegression\n",
        "from sklearn.preprocessing import StandardScaler\n",
        "from sklearn.metrics import accuracy_score\n",
        "\n",
        "# machine learning\n",
        "from sklearn.linear_model import LogisticRegression, RidgeClassifierCV\n",
        "from sklearn.svm import SVC, LinearSVC\n",
        "from sklearn.ensemble import (RandomForestClassifier, GradientBoostingClassifier)\n",
        "from sklearn.neighbors import KNeighborsClassifier\n",
        "from sklearn.naive_bayes import GaussianNB\n",
        "from sklearn.linear_model import Perceptron\n",
        "from sklearn.linear_model import SGDClassifier\n",
        "from sklearn.tree import DecisionTreeClassifier\n",
        "from sklearn.model_selection import cross_val_score, GridSearchCV\n",
        "from sklearn.metrics import accuracy_score"
      ]
    },
    {
      "cell_type": "markdown",
      "metadata": {
        "id": "3CtTeuq5mGiO"
      },
      "source": [
        "What we just ran imported the libraries that we will need for the notebook functions.  "
      ]
    },
    {
      "cell_type": "code",
      "execution_count": 17,
      "metadata": {
        "colab": {
          "base_uri": "https://localhost:8080/",
          "height": 73
        },
        "id": "jEy29eGTmZQq",
        "outputId": "1b17dcfb-2910-409f-a0fb-4e5cdd070f56"
      },
      "outputs": [
        {
          "data": {
            "text/html": [
              "<div>\n",
              "<style scoped>\n",
              "    .dataframe tbody tr th:only-of-type {\n",
              "        vertical-align: middle;\n",
              "    }\n",
              "\n",
              "    .dataframe tbody tr th {\n",
              "        vertical-align: top;\n",
              "    }\n",
              "\n",
              "    .dataframe thead th {\n",
              "        text-align: right;\n",
              "    }\n",
              "</style>\n",
              "<table border=\"1\" class=\"dataframe\">\n",
              "  <thead>\n",
              "    <tr style=\"text-align: right;\">\n",
              "      <th></th>\n",
              "      <th>age</th>\n",
              "      <th>Sex</th>\n",
              "      <th>HAS_DIABETES_YN</th>\n",
              "      <th>HAS_CHF_YN</th>\n",
              "      <th>NUM_ED_VIS</th>\n",
              "      <th>NUM_HOSP_ADMSNS</th>\n",
              "      <th>ON_ANTHYPERT_YN</th>\n",
              "      <th>BMI_LAST</th>\n",
              "      <th>BP_SYS_LAST</th>\n",
              "      <th>BP_DIA_LAST</th>\n",
              "      <th>HAD_HEART_ATTACK_YN</th>\n",
              "      <th>HAS_DEPRESSION_YN</th>\n",
              "      <th>TTL_CHL_LAST</th>\n",
              "      <th>HbA1c</th>\n",
              "    </tr>\n",
              "  </thead>\n",
              "  <tbody>\n",
              "    <tr>\n",
              "      <th>0</th>\n",
              "      <td>64</td>\n",
              "      <td>Male</td>\n",
              "      <td>Y</td>\n",
              "      <td>0</td>\n",
              "      <td>0</td>\n",
              "      <td>0</td>\n",
              "      <td>1</td>\n",
              "      <td>23.52</td>\n",
              "      <td>124.0</td>\n",
              "      <td>75.0</td>\n",
              "      <td>0</td>\n",
              "      <td>0</td>\n",
              "      <td>207.0</td>\n",
              "      <td>7.1</td>\n",
              "    </tr>\n",
              "    <tr>\n",
              "      <th>1</th>\n",
              "      <td>59</td>\n",
              "      <td>Female</td>\n",
              "      <td>Y</td>\n",
              "      <td>0</td>\n",
              "      <td>0</td>\n",
              "      <td>1</td>\n",
              "      <td>1</td>\n",
              "      <td>28.67</td>\n",
              "      <td>101.0</td>\n",
              "      <td>63.0</td>\n",
              "      <td>0</td>\n",
              "      <td>0</td>\n",
              "      <td>222.0</td>\n",
              "      <td>12.3</td>\n",
              "    </tr>\n",
              "    <tr>\n",
              "      <th>2</th>\n",
              "      <td>72</td>\n",
              "      <td>Female</td>\n",
              "      <td>N</td>\n",
              "      <td>0</td>\n",
              "      <td>0</td>\n",
              "      <td>0</td>\n",
              "      <td>0</td>\n",
              "      <td>24.15</td>\n",
              "      <td>102.0</td>\n",
              "      <td>62.0</td>\n",
              "      <td>0</td>\n",
              "      <td>0</td>\n",
              "      <td>213.0</td>\n",
              "      <td>5.8</td>\n",
              "    </tr>\n",
              "    <tr>\n",
              "      <th>3</th>\n",
              "      <td>73</td>\n",
              "      <td>Male</td>\n",
              "      <td>Y</td>\n",
              "      <td>0</td>\n",
              "      <td>3</td>\n",
              "      <td>5</td>\n",
              "      <td>1</td>\n",
              "      <td>19.78</td>\n",
              "      <td>155.0</td>\n",
              "      <td>58.0</td>\n",
              "      <td>0</td>\n",
              "      <td>1</td>\n",
              "      <td>103.0</td>\n",
              "      <td>8.1</td>\n",
              "    </tr>\n",
              "    <tr>\n",
              "      <th>4</th>\n",
              "      <td>65</td>\n",
              "      <td>Female</td>\n",
              "      <td>Y</td>\n",
              "      <td>0</td>\n",
              "      <td>0</td>\n",
              "      <td>1</td>\n",
              "      <td>1</td>\n",
              "      <td>52.02</td>\n",
              "      <td>118.0</td>\n",
              "      <td>60.0</td>\n",
              "      <td>0</td>\n",
              "      <td>0</td>\n",
              "      <td>190.0</td>\n",
              "      <td>6.4</td>\n",
              "    </tr>\n",
              "  </tbody>\n",
              "</table>\n",
              "</div>"
            ],
            "text/plain": [
              "   age     Sex HAS_DIABETES_YN  HAS_CHF_YN  NUM_ED_VIS  NUM_HOSP_ADMSNS  \\\n",
              "0   64    Male               Y           0           0                0   \n",
              "1   59  Female               Y           0           0                1   \n",
              "2   72  Female               N           0           0                0   \n",
              "3   73    Male               Y           0           3                5   \n",
              "4   65  Female               Y           0           0                1   \n",
              "\n",
              "   ON_ANTHYPERT_YN  BMI_LAST  BP_SYS_LAST  BP_DIA_LAST  HAD_HEART_ATTACK_YN  \\\n",
              "0                1     23.52        124.0         75.0                    0   \n",
              "1                1     28.67        101.0         63.0                    0   \n",
              "2                0     24.15        102.0         62.0                    0   \n",
              "3                1     19.78        155.0         58.0                    0   \n",
              "4                1     52.02        118.0         60.0                    0   \n",
              "\n",
              "   HAS_DEPRESSION_YN  TTL_CHL_LAST HbA1c  \n",
              "0                  0         207.0   7.1  \n",
              "1                  0         222.0  12.3  \n",
              "2                  0         213.0   5.8  \n",
              "3                  1         103.0   8.1  \n",
              "4                  0         190.0   6.4  "
            ]
          },
          "execution_count": 17,
          "metadata": {},
          "output_type": "execute_result"
        }
      ],
      "source": [
        "#read csv from website and assign to df_base\n",
        "url = \"https://raw.githubusercontent.com/Beenjamming/ClassificationExample/main/DM_Sample.csv\"\n",
        "df_base = pd.read_csv(url)\n",
        "df_base.head()\n"
      ]
    },
    {
      "cell_type": "markdown",
      "metadata": {},
      "source": [
        "Lets stop for a second.....what did we just do?  \n",
        "\n",
        "1. We set a url as a variable\n",
        "2. We read the url CSV into a dataframe\n",
        "3. We displayed the top 5 rows of the dataframe\n",
        "\n",
        "Now lets start taking a look at our data."
      ]
    },
    {
      "cell_type": "code",
      "execution_count": 18,
      "metadata": {
        "colab": {
          "base_uri": "https://localhost:8080/",
          "height": 430
        },
        "id": "7JXnVc5i6pVJ",
        "outputId": "d6755b78-8f58-4f8d-8e67-5b5cd146189c"
      },
      "outputs": [
        {
          "data": {
            "image/png": "[encoded data removed]",
            "text/plain": [
              "<Figure size 432x288 with 1 Axes>"
            ]
          },
          "metadata": {
            "needs_background": "light"
          },
          "output_type": "display_data"
        }
      ],
      "source": [
        "from matplotlib import pyplot as plt\n",
        "import seaborn as sns\n",
        "df_base.groupby('HAS_DIABETES_YN').size().plot(kind='barh', color=sns.palettes.mpl_palette('Dark2'))\n",
        "plt.gca().spines[['top', 'right',]].set_visible(False)"
      ]
    },
    {
      "cell_type": "markdown",
      "metadata": {},
      "source": [
        "What does this tell us about our dataset?  Do more patients have diabetes than do not have diabetes?  Is this reflective of a real world scenario?  "
      ]
    },
    {
      "cell_type": "code",
      "execution_count": 19,
      "metadata": {
        "colab": {
          "base_uri": "https://localhost:8080/"
        },
        "id": "7z3o-VcumGiQ",
        "outputId": "5712d7d1-364d-48ac-b49e-a28bba072d68"
      },
      "outputs": [
        {
          "data": {
            "text/plain": [
              "age                      int64\n",
              "Sex                     object\n",
              "HAS_DIABETES_YN         object\n",
              "HAS_CHF_YN               int64\n",
              "NUM_ED_VIS               int64\n",
              "NUM_HOSP_ADMSNS          int64\n",
              "ON_ANTHYPERT_YN          int64\n",
              "BMI_LAST               float64\n",
              "BP_SYS_LAST            float64\n",
              "BP_DIA_LAST            float64\n",
              "HAD_HEART_ATTACK_YN      int64\n",
              "HAS_DEPRESSION_YN        int64\n",
              "TTL_CHL_LAST           float64\n",
              "HbA1c                   object\n",
              "dtype: object"
            ]
          },
          "execution_count": 19,
          "metadata": {},
          "output_type": "execute_result"
        }
      ],
      "source": [
        "#data types for the columns in the dataframe\n",
        "df_base.dtypes"
      ]
    },
    {
      "cell_type": "code",
      "execution_count": 20,
      "metadata": {
        "colab": {
          "base_uri": "https://localhost:8080/"
        },
        "id": "EBLnsyEpmGiQ",
        "outputId": "cdf55449-9ab8-4d07-eeb7-d0861cd02d81"
      },
      "outputs": [
        {
          "data": {
            "text/plain": [
              "Y    3251\n",
              "N    1749\n",
              "Name: HAS_DIABETES_YN, dtype: int64"
            ]
          },
          "execution_count": 20,
          "metadata": {},
          "output_type": "execute_result"
        }
      ],
      "source": [
        "#value counts of the target variable\n",
        "\n",
        "df_base.HAS_DIABETES_YN.value_counts()"
      ]
    },
    {
      "cell_type": "code",
      "execution_count": 21,
      "metadata": {
        "colab": {
          "base_uri": "https://localhost:8080/",
          "height": 245
        },
        "id": "8JGrzSdzmGiR",
        "outputId": "18683f33-5744-4287-f596-8e96b08d2be8"
      },
      "outputs": [
        {
          "name": "stderr",
          "output_type": "stream",
          "text": [
            "c:\\Users\\MICHAELSB\\AppData\\Local\\Programs\\Python\\Python39\\lib\\site-packages\\seaborn\\_decorators.py:36: FutureWarning: Pass the following variables as keyword args: x, y. From version 0.12, the only valid positional argument will be `data`, and passing other arguments without an explicit keyword will result in an error or misinterpretation.\n",
            "  warnings.warn(\n"
          ]
        },
        {
          "data": {
            "image/png": "[encoded data removed]",
            "text/plain": [
              "<Figure size 432x288 with 1 Axes>"
            ]
          },
          "metadata": {
            "needs_background": "light"
          },
          "output_type": "display_data"
        }
      ],
      "source": [
        "#visualize the data\n",
        "\n",
        "import matplotlib.pyplot as plt\n",
        "import seaborn as sns\n",
        "count = df_base.HAS_DIABETES_YN.value_counts(normalize=True) #normalize to get percentages.....change to False to get actual count\n",
        "sns.barplot(count.index,count.values)\n",
        "#Y = Red and N = Blue \n",
        "plt.title('Diabetes Yes or No')\n",
        "plt.ylabel('Number of Pts')\n",
        "plt.xlabel('Diabetes')\n",
        "#display the percentage of each class\n",
        "for i in range(count.shape[0]):\n",
        "    plt.text(i,count[i],count[i],ha='center')\n",
        "plt.show()"
      ]
    },
    {
      "cell_type": "code",
      "execution_count": 22,
      "metadata": {
        "colab": {
          "base_uri": "https://localhost:8080/",
          "height": 300
        },
        "id": "Sn4ELIB6mGiS",
        "outputId": "231dda14-9741-4d4e-a368-f0efe48fca31"
      },
      "outputs": [
        {
          "data": {
            "text/html": [
              "<div>\n",
              "<style scoped>\n",
              "    .dataframe tbody tr th:only-of-type {\n",
              "        vertical-align: middle;\n",
              "    }\n",
              "\n",
              "    .dataframe tbody tr th {\n",
              "        vertical-align: top;\n",
              "    }\n",
              "\n",
              "    .dataframe thead th {\n",
              "        text-align: right;\n",
              "    }\n",
              "</style>\n",
              "<table border=\"1\" class=\"dataframe\">\n",
              "  <thead>\n",
              "    <tr style=\"text-align: right;\">\n",
              "      <th></th>\n",
              "      <th>age</th>\n",
              "      <th>HAS_CHF_YN</th>\n",
              "      <th>NUM_ED_VIS</th>\n",
              "      <th>NUM_HOSP_ADMSNS</th>\n",
              "      <th>ON_ANTHYPERT_YN</th>\n",
              "      <th>BMI_LAST</th>\n",
              "      <th>BP_SYS_LAST</th>\n",
              "      <th>BP_DIA_LAST</th>\n",
              "      <th>HAD_HEART_ATTACK_YN</th>\n",
              "      <th>HAS_DEPRESSION_YN</th>\n",
              "      <th>TTL_CHL_LAST</th>\n",
              "    </tr>\n",
              "  </thead>\n",
              "  <tbody>\n",
              "    <tr>\n",
              "      <th>count</th>\n",
              "      <td>5000.000000</td>\n",
              "      <td>5000.000000</td>\n",
              "      <td>5000.000000</td>\n",
              "      <td>5000.000000</td>\n",
              "      <td>5000.000000</td>\n",
              "      <td>5000.000000</td>\n",
              "      <td>4834.000000</td>\n",
              "      <td>4834.000000</td>\n",
              "      <td>5000.000000</td>\n",
              "      <td>5000.000000</td>\n",
              "      <td>3807.000000</td>\n",
              "    </tr>\n",
              "    <tr>\n",
              "      <th>mean</th>\n",
              "      <td>68.899200</td>\n",
              "      <td>0.115200</td>\n",
              "      <td>0.212800</td>\n",
              "      <td>0.389600</td>\n",
              "      <td>0.752600</td>\n",
              "      <td>37.454788</td>\n",
              "      <td>130.515515</td>\n",
              "      <td>68.867398</td>\n",
              "      <td>0.040000</td>\n",
              "      <td>0.259200</td>\n",
              "      <td>164.793276</td>\n",
              "    </tr>\n",
              "    <tr>\n",
              "      <th>std</th>\n",
              "      <td>15.364812</td>\n",
              "      <td>0.319295</td>\n",
              "      <td>0.682649</td>\n",
              "      <td>0.952047</td>\n",
              "      <td>0.431544</td>\n",
              "      <td>459.778852</td>\n",
              "      <td>16.729585</td>\n",
              "      <td>12.263724</td>\n",
              "      <td>0.195979</td>\n",
              "      <td>0.438239</td>\n",
              "      <td>42.607572</td>\n",
              "    </tr>\n",
              "    <tr>\n",
              "      <th>min</th>\n",
              "      <td>11.000000</td>\n",
              "      <td>0.000000</td>\n",
              "      <td>0.000000</td>\n",
              "      <td>0.000000</td>\n",
              "      <td>0.000000</td>\n",
              "      <td>14.510000</td>\n",
              "      <td>61.000000</td>\n",
              "      <td>0.000000</td>\n",
              "      <td>0.000000</td>\n",
              "      <td>0.000000</td>\n",
              "      <td>53.000000</td>\n",
              "    </tr>\n",
              "    <tr>\n",
              "      <th>25%</th>\n",
              "      <td>61.000000</td>\n",
              "      <td>0.000000</td>\n",
              "      <td>0.000000</td>\n",
              "      <td>0.000000</td>\n",
              "      <td>1.000000</td>\n",
              "      <td>23.760000</td>\n",
              "      <td>120.000000</td>\n",
              "      <td>60.000000</td>\n",
              "      <td>0.000000</td>\n",
              "      <td>0.000000</td>\n",
              "      <td>135.000000</td>\n",
              "    </tr>\n",
              "    <tr>\n",
              "      <th>50%</th>\n",
              "      <td>71.000000</td>\n",
              "      <td>0.000000</td>\n",
              "      <td>0.000000</td>\n",
              "      <td>0.000000</td>\n",
              "      <td>1.000000</td>\n",
              "      <td>27.005000</td>\n",
              "      <td>130.000000</td>\n",
              "      <td>69.000000</td>\n",
              "      <td>0.000000</td>\n",
              "      <td>0.000000</td>\n",
              "      <td>160.000000</td>\n",
              "    </tr>\n",
              "    <tr>\n",
              "      <th>75%</th>\n",
              "      <td>79.000000</td>\n",
              "      <td>0.000000</td>\n",
              "      <td>0.000000</td>\n",
              "      <td>0.000000</td>\n",
              "      <td>1.000000</td>\n",
              "      <td>31.390000</td>\n",
              "      <td>140.000000</td>\n",
              "      <td>77.000000</td>\n",
              "      <td>0.000000</td>\n",
              "      <td>1.000000</td>\n",
              "      <td>189.000000</td>\n",
              "    </tr>\n",
              "    <tr>\n",
              "      <th>max</th>\n",
              "      <td>104.000000</td>\n",
              "      <td>1.000000</td>\n",
              "      <td>16.000000</td>\n",
              "      <td>16.000000</td>\n",
              "      <td>1.000000</td>\n",
              "      <td>24590.710000</td>\n",
              "      <td>225.000000</td>\n",
              "      <td>141.000000</td>\n",
              "      <td>1.000000</td>\n",
              "      <td>1.000000</td>\n",
              "      <td>560.000000</td>\n",
              "    </tr>\n",
              "  </tbody>\n",
              "</table>\n",
              "</div>"
            ],
            "text/plain": [
              "               age   HAS_CHF_YN   NUM_ED_VIS  NUM_HOSP_ADMSNS  \\\n",
              "count  5000.000000  5000.000000  5000.000000      5000.000000   \n",
              "mean     68.899200     0.115200     0.212800         0.389600   \n",
              "std      15.364812     0.319295     0.682649         0.952047   \n",
              "min      11.000000     0.000000     0.000000         0.000000   \n",
              "25%      61.000000     0.000000     0.000000         0.000000   \n",
              "50%      71.000000     0.000000     0.000000         0.000000   \n",
              "75%      79.000000     0.000000     0.000000         0.000000   \n",
              "max     104.000000     1.000000    16.000000        16.000000   \n",
              "\n",
              "       ON_ANTHYPERT_YN      BMI_LAST  BP_SYS_LAST  BP_DIA_LAST  \\\n",
              "count      5000.000000   5000.000000  4834.000000  4834.000000   \n",
              "mean          0.752600     37.454788   130.515515    68.867398   \n",
              "std           0.431544    459.778852    16.729585    12.263724   \n",
              "min           0.000000     14.510000    61.000000     0.000000   \n",
              "25%           1.000000     23.760000   120.000000    60.000000   \n",
              "50%           1.000000     27.005000   130.000000    69.000000   \n",
              "75%           1.000000     31.390000   140.000000    77.000000   \n",
              "max           1.000000  24590.710000   225.000000   141.000000   \n",
              "\n",
              "       HAD_HEART_ATTACK_YN  HAS_DEPRESSION_YN  TTL_CHL_LAST  \n",
              "count          5000.000000        5000.000000   3807.000000  \n",
              "mean              0.040000           0.259200    164.793276  \n",
              "std               0.195979           0.438239     42.607572  \n",
              "min               0.000000           0.000000     53.000000  \n",
              "25%               0.000000           0.000000    135.000000  \n",
              "50%               0.000000           0.000000    160.000000  \n",
              "75%               0.000000           1.000000    189.000000  \n",
              "max               1.000000           1.000000    560.000000  "
            ]
          },
          "execution_count": 22,
          "metadata": {},
          "output_type": "execute_result"
        }
      ],
      "source": [
        "df_base.describe()"
      ]
    },
    {
      "cell_type": "code",
      "execution_count": 23,
      "metadata": {
        "colab": {
          "base_uri": "https://localhost:8080/"
        },
        "id": "aHri6xIfmGiS",
        "outputId": "98a137f2-fd25-4e5b-81f3-682c940c6989"
      },
      "outputs": [
        {
          "data": {
            "text/plain": [
              "age                       0\n",
              "Sex                       0\n",
              "HAS_DIABETES_YN           0\n",
              "HAS_CHF_YN                0\n",
              "NUM_ED_VIS                0\n",
              "NUM_HOSP_ADMSNS           0\n",
              "ON_ANTHYPERT_YN           0\n",
              "BMI_LAST                  0\n",
              "BP_SYS_LAST             166\n",
              "BP_DIA_LAST             166\n",
              "HAD_HEART_ATTACK_YN       0\n",
              "HAS_DEPRESSION_YN         0\n",
              "TTL_CHL_LAST           1193\n",
              "HbA1c                   888\n",
              "dtype: int64"
            ]
          },
          "execution_count": 23,
          "metadata": {},
          "output_type": "execute_result"
        }
      ],
      "source": [
        "df_base.isnull().sum()"
      ]
    },
    {
      "cell_type": "code",
      "execution_count": 24,
      "metadata": {
        "colab": {
          "base_uri": "https://localhost:8080/",
          "height": 1000
        },
        "id": "B2IFaLvBmGiT",
        "outputId": "5e4a8de2-7c28-4ecd-c2da-72a41a9129a3"
      },
      "outputs": [
        {
          "name": "stderr",
          "output_type": "stream",
          "text": [
            "C:\\Users\\MICHAELSB\\AppData\\Local\\Temp\\ipykernel_22228\\995918547.py:1: FutureWarning: The default value of numeric_only in DataFrame.corr is deprecated. In a future version, it will default to False. Select only valid columns or specify the value of numeric_only to silence this warning.\n",
            "  corrMatrix = df_base.corr()\n"
          ]
        },
        {
          "data": {
            "image/png": "[encoded data removed]",
            "text/plain": [
              "<Figure size 864x720 with 2 Axes>"
            ]
          },
          "metadata": {},
          "output_type": "display_data"
        }
      ],
      "source": [
        "corrMatrix = df_base.corr()\n",
        "import numpy as np\n",
        "mask = np.zeros_like(corrMatrix)\n",
        "mask[np.triu_indices_from(mask)] = True\n",
        "with sns.axes_style(\"white\"):\n",
        "    f, ax = plt.subplots(figsize=(12, 10))\n",
        "    ax = sns.heatmap(corrMatrix, mask=mask, vmax=.4, square=True, annot=True, fmt='.2f', cmap='RdBu_r')"
      ]
    },
    {
      "cell_type": "code",
      "execution_count": 25,
      "metadata": {
        "colab": {
          "base_uri": "https://localhost:8080/"
        },
        "id": "4tXD-bIsmGiT",
        "outputId": "ee7f81b8-e908-4ff9-8b0f-0828f3d33300"
      },
      "outputs": [
        {
          "data": {
            "text/plain": [
              "<bound method NDFrame.describe of       age     Sex  HAS_DIABETES_YN  HAS_CHF_YN  NUM_ED_VIS  NUM_HOSP_ADMSNS  \\\n",
              "0      64    Male                1           0           0                0   \n",
              "1      59  Female                1           0           0                1   \n",
              "2      72  Female                0           0           0                0   \n",
              "3      73    Male                1           0           3                5   \n",
              "4      65  Female                1           0           0                1   \n",
              "...   ...     ...              ...         ...         ...              ...   \n",
              "4994   64  Female                1           0           0                0   \n",
              "4995   74    Male                0           0           0                0   \n",
              "4996   70    Male                1           0           0                0   \n",
              "4997   76    Male                0           0           0                0   \n",
              "4998   45  Female                0           0           0                0   \n",
              "\n",
              "      ON_ANTHYPERT_YN  BMI_LAST  BP_SYS_LAST  BP_DIA_LAST  \\\n",
              "0                   1     23.52        124.0         75.0   \n",
              "1                   1     28.67        101.0         63.0   \n",
              "2                   0     24.15        102.0         62.0   \n",
              "3                   1     19.78        155.0         58.0   \n",
              "4                   1     52.02        118.0         60.0   \n",
              "...               ...       ...          ...          ...   \n",
              "4994                1     25.97        123.0         67.0   \n",
              "4995                1     24.87        125.0         64.0   \n",
              "4996                1     31.16        126.0         63.0   \n",
              "4997                1     29.53        129.0         78.0   \n",
              "4998                0     23.11        119.0         53.0   \n",
              "\n",
              "      HAD_HEART_ATTACK_YN  HAS_DEPRESSION_YN  TTL_CHL_LAST HbA1c  \n",
              "0                       0                  0         207.0   7.1  \n",
              "1                       0                  0         222.0  12.3  \n",
              "2                       0                  0         213.0   5.8  \n",
              "3                       0                  1         103.0   8.1  \n",
              "4                       0                  0         190.0   6.4  \n",
              "...                   ...                ...           ...   ...  \n",
              "4994                    0                  0         153.0   7.8  \n",
              "4995                    0                  0         163.0   5.9  \n",
              "4996                    0                  0         104.0   6.8  \n",
              "4997                    0                  1          84.0   6.2  \n",
              "4998                    0                  0         167.0   5.5  \n",
              "\n",
              "[3541 rows x 14 columns]>"
            ]
          },
          "execution_count": 25,
          "metadata": {},
          "output_type": "execute_result"
        }
      ],
      "source": [
        "df_base['HAS_DIABETES_YN'] = df_base['HAS_DIABETES_YN'].map({'Y':1, 'N':0})\n",
        "df_base.dropna(axis=0, how='any', inplace=True)\n",
        "df_base.describe"
      ]
    },
    {
      "cell_type": "code",
      "execution_count": 26,
      "metadata": {
        "colab": {
          "base_uri": "https://localhost:8080/"
        },
        "id": "2krjC0Q3mGiU",
        "outputId": "588cbecd-59e6-41d1-a3a5-12b24a90ef40"
      },
      "outputs": [
        {
          "data": {
            "text/plain": [
              "age                    0\n",
              "Sex                    0\n",
              "HAS_DIABETES_YN        0\n",
              "HAS_CHF_YN             0\n",
              "NUM_ED_VIS             0\n",
              "NUM_HOSP_ADMSNS        0\n",
              "ON_ANTHYPERT_YN        0\n",
              "BMI_LAST               0\n",
              "BP_SYS_LAST            0\n",
              "BP_DIA_LAST            0\n",
              "HAD_HEART_ATTACK_YN    0\n",
              "HAS_DEPRESSION_YN      0\n",
              "TTL_CHL_LAST           0\n",
              "HbA1c                  0\n",
              "dtype: int64"
            ]
          },
          "execution_count": 26,
          "metadata": {},
          "output_type": "execute_result"
        }
      ],
      "source": [
        "df_base.isnull().sum()"
      ]
    },
    {
      "cell_type": "code",
      "execution_count": 27,
      "metadata": {
        "colab": {
          "base_uri": "https://localhost:8080/"
        },
        "id": "xyo3u80amGiU",
        "outputId": "feea9d1e-87be-4bf3-a22c-34067a630fe5"
      },
      "outputs": [
        {
          "data": {
            "text/plain": [
              "Female       1880\n",
              "Male         1660\n",
              "Nonbinary       1\n",
              "Name: Sex, dtype: int64"
            ]
          },
          "execution_count": 27,
          "metadata": {},
          "output_type": "execute_result"
        }
      ],
      "source": [
        "df_base.Sex.value_counts()"
      ]
    },
    {
      "cell_type": "code",
      "execution_count": 28,
      "metadata": {
        "colab": {
          "base_uri": "https://localhost:8080/"
        },
        "id": "CJImeze4mGiU",
        "outputId": "576428a0-1afe-4820-fb9d-7a72ebde067f"
      },
      "outputs": [
        {
          "data": {
            "text/plain": [
              "Female    1880\n",
              "Male      1660\n",
              "Name: Sex, dtype: int64"
            ]
          },
          "execution_count": 28,
          "metadata": {},
          "output_type": "execute_result"
        }
      ],
      "source": [
        "df_base = df_base[df_base.Sex != 'Nonbinary']\n",
        "df_base.Sex.value_counts()"
      ]
    },
    {
      "cell_type": "code",
      "execution_count": 29,
      "metadata": {
        "colab": {
          "base_uri": "https://localhost:8080/",
          "height": 380
        },
        "id": "LCPlAERKmGiV",
        "outputId": "ef9b6550-2327-4176-b17e-326b99ca3c81"
      },
      "outputs": [
        {
          "name": "stderr",
          "output_type": "stream",
          "text": [
            "C:\\Users\\MICHAELSB\\AppData\\Local\\Temp\\ipykernel_22228\\3503996057.py:1: SettingWithCopyWarning: \n",
            "A value is trying to be set on a copy of a slice from a DataFrame\n",
            "\n",
            "See the caveats in the documentation: https://pandas.pydata.org/pandas-docs/stable/user_guide/indexing.html#returning-a-view-versus-a-copy\n",
            "  df_base.rename(columns={'Sex':'Female'}, inplace=True)\n",
            "C:\\Users\\MICHAELSB\\AppData\\Local\\Temp\\ipykernel_22228\\3503996057.py:2: SettingWithCopyWarning: \n",
            "A value is trying to be set on a copy of a slice from a DataFrame\n",
            "\n",
            "See the caveats in the documentation: https://pandas.pydata.org/pandas-docs/stable/user_guide/indexing.html#returning-a-view-versus-a-copy\n",
            "  df_base['Female'].replace({'Female': 1, 'Male':0}, inplace=True)\n"
          ]
        },
        {
          "data": {
            "text/html": [
              "<div>\n",
              "<style scoped>\n",
              "    .dataframe tbody tr th:only-of-type {\n",
              "        vertical-align: middle;\n",
              "    }\n",
              "\n",
              "    .dataframe tbody tr th {\n",
              "        vertical-align: top;\n",
              "    }\n",
              "\n",
              "    .dataframe thead th {\n",
              "        text-align: right;\n",
              "    }\n",
              "</style>\n",
              "<table border=\"1\" class=\"dataframe\">\n",
              "  <thead>\n",
              "    <tr style=\"text-align: right;\">\n",
              "      <th></th>\n",
              "      <th>age</th>\n",
              "      <th>Female</th>\n",
              "      <th>HAS_DIABETES_YN</th>\n",
              "      <th>HAS_CHF_YN</th>\n",
              "      <th>NUM_ED_VIS</th>\n",
              "      <th>NUM_HOSP_ADMSNS</th>\n",
              "      <th>ON_ANTHYPERT_YN</th>\n",
              "      <th>BMI_LAST</th>\n",
              "      <th>BP_SYS_LAST</th>\n",
              "      <th>BP_DIA_LAST</th>\n",
              "      <th>HAD_HEART_ATTACK_YN</th>\n",
              "      <th>HAS_DEPRESSION_YN</th>\n",
              "      <th>TTL_CHL_LAST</th>\n",
              "      <th>HbA1c</th>\n",
              "    </tr>\n",
              "  </thead>\n",
              "  <tbody>\n",
              "    <tr>\n",
              "      <th>0</th>\n",
              "      <td>64</td>\n",
              "      <td>0</td>\n",
              "      <td>1</td>\n",
              "      <td>0</td>\n",
              "      <td>0</td>\n",
              "      <td>0</td>\n",
              "      <td>1</td>\n",
              "      <td>23.52</td>\n",
              "      <td>124.0</td>\n",
              "      <td>75.0</td>\n",
              "      <td>0</td>\n",
              "      <td>0</td>\n",
              "      <td>207.0</td>\n",
              "      <td>7.1</td>\n",
              "    </tr>\n",
              "    <tr>\n",
              "      <th>1</th>\n",
              "      <td>59</td>\n",
              "      <td>1</td>\n",
              "      <td>1</td>\n",
              "      <td>0</td>\n",
              "      <td>0</td>\n",
              "      <td>1</td>\n",
              "      <td>1</td>\n",
              "      <td>28.67</td>\n",
              "      <td>101.0</td>\n",
              "      <td>63.0</td>\n",
              "      <td>0</td>\n",
              "      <td>0</td>\n",
              "      <td>222.0</td>\n",
              "      <td>12.3</td>\n",
              "    </tr>\n",
              "    <tr>\n",
              "      <th>2</th>\n",
              "      <td>72</td>\n",
              "      <td>1</td>\n",
              "      <td>0</td>\n",
              "      <td>0</td>\n",
              "      <td>0</td>\n",
              "      <td>0</td>\n",
              "      <td>0</td>\n",
              "      <td>24.15</td>\n",
              "      <td>102.0</td>\n",
              "      <td>62.0</td>\n",
              "      <td>0</td>\n",
              "      <td>0</td>\n",
              "      <td>213.0</td>\n",
              "      <td>5.8</td>\n",
              "    </tr>\n",
              "    <tr>\n",
              "      <th>3</th>\n",
              "      <td>73</td>\n",
              "      <td>0</td>\n",
              "      <td>1</td>\n",
              "      <td>0</td>\n",
              "      <td>3</td>\n",
              "      <td>5</td>\n",
              "      <td>1</td>\n",
              "      <td>19.78</td>\n",
              "      <td>155.0</td>\n",
              "      <td>58.0</td>\n",
              "      <td>0</td>\n",
              "      <td>1</td>\n",
              "      <td>103.0</td>\n",
              "      <td>8.1</td>\n",
              "    </tr>\n",
              "    <tr>\n",
              "      <th>4</th>\n",
              "      <td>65</td>\n",
              "      <td>1</td>\n",
              "      <td>1</td>\n",
              "      <td>0</td>\n",
              "      <td>0</td>\n",
              "      <td>1</td>\n",
              "      <td>1</td>\n",
              "      <td>52.02</td>\n",
              "      <td>118.0</td>\n",
              "      <td>60.0</td>\n",
              "      <td>0</td>\n",
              "      <td>0</td>\n",
              "      <td>190.0</td>\n",
              "      <td>6.4</td>\n",
              "    </tr>\n",
              "  </tbody>\n",
              "</table>\n",
              "</div>"
            ],
            "text/plain": [
              "   age  Female  HAS_DIABETES_YN  HAS_CHF_YN  NUM_ED_VIS  NUM_HOSP_ADMSNS  \\\n",
              "0   64       0                1           0           0                0   \n",
              "1   59       1                1           0           0                1   \n",
              "2   72       1                0           0           0                0   \n",
              "3   73       0                1           0           3                5   \n",
              "4   65       1                1           0           0                1   \n",
              "\n",
              "   ON_ANTHYPERT_YN  BMI_LAST  BP_SYS_LAST  BP_DIA_LAST  HAD_HEART_ATTACK_YN  \\\n",
              "0                1     23.52        124.0         75.0                    0   \n",
              "1                1     28.67        101.0         63.0                    0   \n",
              "2                0     24.15        102.0         62.0                    0   \n",
              "3                1     19.78        155.0         58.0                    0   \n",
              "4                1     52.02        118.0         60.0                    0   \n",
              "\n",
              "   HAS_DEPRESSION_YN  TTL_CHL_LAST HbA1c  \n",
              "0                  0         207.0   7.1  \n",
              "1                  0         222.0  12.3  \n",
              "2                  0         213.0   5.8  \n",
              "3                  1         103.0   8.1  \n",
              "4                  0         190.0   6.4  "
            ]
          },
          "execution_count": 29,
          "metadata": {},
          "output_type": "execute_result"
        }
      ],
      "source": [
        "df_base.rename(columns={'Sex':'Female'}, inplace=True)\n",
        "df_base['Female'].replace({'Female': 1, 'Male':0}, inplace=True)\n",
        "df_base.head()"
      ]
    },
    {
      "cell_type": "code",
      "execution_count": 30,
      "metadata": {
        "colab": {
          "base_uri": "https://localhost:8080/"
        },
        "id": "_yvhUhF3mGiV",
        "outputId": "d0471d8a-dc2f-436c-c751-a23a1b44c9e7"
      },
      "outputs": [
        {
          "name": "stderr",
          "output_type": "stream",
          "text": [
            "C:\\Users\\MICHAELSB\\AppData\\Local\\Temp\\ipykernel_22228\\2096870457.py:1: SettingWithCopyWarning: \n",
            "A value is trying to be set on a copy of a slice from a DataFrame.\n",
            "Try using .loc[row_indexer,col_indexer] = value instead\n",
            "\n",
            "See the caveats in the documentation: https://pandas.pydata.org/pandas-docs/stable/user_guide/indexing.html#returning-a-view-versus-a-copy\n",
            "  df_base['HbA1c'] = df_base['HbA1c'].replace('>14.0',14)\n",
            "C:\\Users\\MICHAELSB\\AppData\\Local\\Temp\\ipykernel_22228\\2096870457.py:2: SettingWithCopyWarning: \n",
            "A value is trying to be set on a copy of a slice from a DataFrame.\n",
            "Try using .loc[row_indexer,col_indexer] = value instead\n",
            "\n",
            "See the caveats in the documentation: https://pandas.pydata.org/pandas-docs/stable/user_guide/indexing.html#returning-a-view-versus-a-copy\n",
            "  df_base['HbA1c'] = df_base['HbA1c'].replace('<4.0',4)\n",
            "C:\\Users\\MICHAELSB\\AppData\\Local\\Temp\\ipykernel_22228\\2096870457.py:3: SettingWithCopyWarning: \n",
            "A value is trying to be set on a copy of a slice from a DataFrame.\n",
            "Try using .loc[row_indexer,col_indexer] = value instead\n",
            "\n",
            "See the caveats in the documentation: https://pandas.pydata.org/pandas-docs/stable/user_guide/indexing.html#returning-a-view-versus-a-copy\n",
            "  df_base['HbA1c'] = df_base['HbA1c'].astype(float)\n"
          ]
        }
      ],
      "source": [
        "df_base['HbA1c'] = df_base['HbA1c'].replace('>14.0',14)\n",
        "df_base['HbA1c'] = df_base['HbA1c'].replace('<4.0',4)\n",
        "df_base['HbA1c'] = df_base['HbA1c'].astype(float)"
      ]
    },
    {
      "cell_type": "code",
      "execution_count": 31,
      "metadata": {
        "colab": {
          "base_uri": "https://localhost:8080/",
          "height": 596
        },
        "id": "Uok4lmwZmGiV",
        "outputId": "9ea296c0-f5b2-4b49-8db4-04a9a326b0c1"
      },
      "outputs": [
        {
          "data": {
            "image/png": "[encoded data removed]",
            "text/plain": [
              "<Figure size 864x720 with 2 Axes>"
            ]
          },
          "metadata": {},
          "output_type": "display_data"
        }
      ],
      "source": [
        "corrMatrix = df_base.corr()\n",
        "corrMatrix = corrMatrix[['HAS_DIABETES_YN']].sort_values(by='HAS_DIABETES_YN', ascending=False)\n",
        "import numpy as np\n",
        "mask = np.zeros_like(corrMatrix)\n",
        "mask[np.triu_indices_from(mask)] = True\n",
        "with sns.axes_style(\"white\"):\n",
        "    f, ax = plt.subplots(figsize=(12, 10))\n",
        "    ax = sns.heatmap(corrMatrix, mask=mask, vmax=0.1, vmin=-0.1, square=True, annot=True, fmt='.2f', cmap='RdBu_r')"
      ]
    },
    {
      "cell_type": "code",
      "execution_count": 32,
      "metadata": {
        "colab": {
          "base_uri": "https://localhost:8080/"
        },
        "id": "FuMCiPHRmGiV",
        "outputId": "06972623-295d-4d3e-bb68-ee9d08239e67"
      },
      "outputs": [
        {
          "name": "stdout",
          "output_type": "stream",
          "text": [
            "Data for Modeling: (1770, 14)\n",
            "Unseen Data For Predictions (1770, 14)\n"
          ]
        }
      ],
      "source": [
        "data = df_base.sample(frac=0.5, random_state=786)\n",
        "data_unseen = df_base.drop(data.index)\n",
        "\n",
        "data.reset_index(drop=True, inplace=True)\n",
        "data_unseen.reset_index(drop=True, inplace=True)\n",
        "\n",
        "print('Data for Modeling: ' + str(data.shape))\n",
        "print('Unseen Data For Predictions ' + str(data_unseen.shape))"
      ]
    },
    {
      "cell_type": "code",
      "execution_count": 33,
      "metadata": {
        "id": "CLYgqn2PmGiV"
      },
      "outputs": [],
      "source": [
        "X_train = data.drop('HAS_DIABETES_YN', axis=1)\n",
        "Y_train = data[\"HAS_DIABETES_YN\"]\n",
        "\n",
        "X_test = data_unseen.drop('HAS_DIABETES_YN', axis=1)\n",
        "Y_test = data_unseen[\"HAS_DIABETES_YN\"]"
      ]
    },
    {
      "cell_type": "code",
      "execution_count": 34,
      "metadata": {
        "colab": {
          "base_uri": "https://localhost:8080/"
        },
        "id": "S5iu5p6tfxfw",
        "outputId": "847e7004-fd1d-4425-ac11-f27552b996bb"
      },
      "outputs": [
        {
          "data": {
            "text/plain": [
              "0    0\n",
              "1    0\n",
              "2    1\n",
              "3    1\n",
              "4    1\n",
              "Name: HAS_DIABETES_YN, dtype: int64"
            ]
          },
          "execution_count": 34,
          "metadata": {},
          "output_type": "execute_result"
        }
      ],
      "source": [
        "Y_train.head()"
      ]
    },
    {
      "cell_type": "code",
      "execution_count": 35,
      "metadata": {
        "colab": {
          "base_uri": "https://localhost:8080/"
        },
        "id": "svQHBjlvmGiW",
        "outputId": "c1befb47-a3ad-4570-d0ba-fda6508c4012"
      },
      "outputs": [
        {
          "name": "stdout",
          "output_type": "stream",
          "text": [
            "0.3192090395480226\n"
          ]
        },
        {
          "name": "stderr",
          "output_type": "stream",
          "text": [
            "c:\\Users\\MICHAELSB\\AppData\\Local\\Programs\\Python\\Python39\\lib\\site-packages\\sklearn\\base.py:432: UserWarning: X has feature names, but LogisticRegression was fitted without feature names\n",
            "  warnings.warn(\n"
          ]
        }
      ],
      "source": [
        "# Logistic Regression\n",
        "from sklearn import preprocessing\n",
        "scaler = preprocessing.StandardScaler().fit(X_train)\n",
        "X_scaled = scaler.transform(X_train)\n",
        "logreg = LogisticRegression()\n",
        "logreg.fit(X_scaled, Y_train)\n",
        "Y_pred = logreg.predict(X_test)\n",
        "lr_acc = accuracy_score(Y_test, Y_pred)\n",
        "print(lr_acc)\n"
      ]
    },
    {
      "cell_type": "code",
      "execution_count": 36,
      "metadata": {
        "colab": {
          "base_uri": "https://localhost:8080/"
        },
        "id": "p4T5Y0gXmGiW",
        "outputId": "e80e6b71-e77f-47c5-90c6-b53a81c7cbbb"
      },
      "outputs": [
        {
          "name": "stdout",
          "output_type": "stream",
          "text": [
            "0.6807909604519774\n"
          ]
        }
      ],
      "source": [
        "# Support Vector Machines\n",
        "svc = SVC()\n",
        "svc.fit(X_train, Y_train)\n",
        "Y_pred = svc.predict(X_test)\n",
        "svm_acc = accuracy_score(Y_test, Y_pred)\n",
        "print(svm_acc)"
      ]
    },
    {
      "cell_type": "code",
      "execution_count": 37,
      "metadata": {
        "colab": {
          "base_uri": "https://localhost:8080/"
        },
        "id": "eURIscr3mGiW",
        "outputId": "2414ca52-cf1a-4b52-8029-41819b406849"
      },
      "outputs": [
        {
          "name": "stdout",
          "output_type": "stream",
          "text": [
            "0.6406779661016949\n"
          ]
        }
      ],
      "source": [
        "#KNN\n",
        "knn = KNeighborsClassifier(n_neighbors = 3)\n",
        "knn.fit(X_train, Y_train)\n",
        "Y_pred = knn.predict(X_test)\n",
        "knn_acc = accuracy_score(Y_test, Y_pred)\n",
        "print(knn_acc)"
      ]
    },
    {
      "cell_type": "code",
      "execution_count": 39,
      "metadata": {
        "id": "quuU6H_nmGiW"
      },
      "outputs": [
        {
          "name": "stdout",
          "output_type": "stream",
          "text": [
            "0.8005649717514124\n"
          ]
        }
      ],
      "source": [
        "# Gaussian Naive Bayes\n",
        "gaussian = GaussianNB()\n",
        "gaussian.fit(X_train, Y_train)\n",
        "Y_pred = gaussian.predict(X_test)\n",
        "gnb_acc = accuracy_score(Y_test, Y_pred)\n",
        "print(gnb_acc)"
      ]
    },
    {
      "cell_type": "code",
      "execution_count": 41,
      "metadata": {
        "id": "gcC0vSMGmGiW"
      },
      "outputs": [
        {
          "name": "stdout",
          "output_type": "stream",
          "text": [
            "0.7994350282485876\n"
          ]
        }
      ],
      "source": [
        "# Decision Tree\n",
        "decision_tree = DecisionTreeClassifier()\n",
        "decision_tree.fit(X_train, Y_train)\n",
        "Y_pred = decision_tree.predict(X_test)\n",
        "dt_acc = accuracy_score(Y_test, Y_pred)\n",
        "print(dt_acc)"
      ]
    },
    {
      "cell_type": "code",
      "execution_count": 42,
      "metadata": {
        "colab": {
          "base_uri": "https://localhost:8080/",
          "height": 206
        },
        "id": "vLiHowGLmGiX",
        "outputId": "aa0c59fd-d0bc-454d-a7e5-0f1310fd4808"
      },
      "outputs": [
        {
          "data": {
            "text/html": [
              "<div>\n",
              "<style scoped>\n",
              "    .dataframe tbody tr th:only-of-type {\n",
              "        vertical-align: middle;\n",
              "    }\n",
              "\n",
              "    .dataframe tbody tr th {\n",
              "        vertical-align: top;\n",
              "    }\n",
              "\n",
              "    .dataframe thead th {\n",
              "        text-align: right;\n",
              "    }\n",
              "</style>\n",
              "<table border=\"1\" class=\"dataframe\">\n",
              "  <thead>\n",
              "    <tr style=\"text-align: right;\">\n",
              "      <th></th>\n",
              "      <th>Model</th>\n",
              "      <th>Score</th>\n",
              "    </tr>\n",
              "  </thead>\n",
              "  <tbody>\n",
              "    <tr>\n",
              "      <th>3</th>\n",
              "      <td>Naive Bayes</td>\n",
              "      <td>0.800565</td>\n",
              "    </tr>\n",
              "    <tr>\n",
              "      <th>4</th>\n",
              "      <td>Decision Tree</td>\n",
              "      <td>0.799435</td>\n",
              "    </tr>\n",
              "    <tr>\n",
              "      <th>0</th>\n",
              "      <td>Support Vector Machines</td>\n",
              "      <td>0.680791</td>\n",
              "    </tr>\n",
              "    <tr>\n",
              "      <th>1</th>\n",
              "      <td>KNN</td>\n",
              "      <td>0.640678</td>\n",
              "    </tr>\n",
              "    <tr>\n",
              "      <th>2</th>\n",
              "      <td>Logistic Regression</td>\n",
              "      <td>0.319209</td>\n",
              "    </tr>\n",
              "  </tbody>\n",
              "</table>\n",
              "</div>"
            ],
            "text/plain": [
              "                     Model     Score\n",
              "3              Naive Bayes  0.800565\n",
              "4            Decision Tree  0.799435\n",
              "0  Support Vector Machines  0.680791\n",
              "1                      KNN  0.640678\n",
              "2      Logistic Regression  0.319209"
            ]
          },
          "execution_count": 42,
          "metadata": {},
          "output_type": "execute_result"
        }
      ],
      "source": [
        "models = pd.DataFrame({\n",
        "    'Model': ['Support Vector Machines', 'KNN', 'Logistic Regression', 'Naive Bayes','Decision Tree'],\n",
        "    'Score': [svm_acc, knn_acc,lr_acc ,gnb_acc, dt_acc]})\n",
        "\n",
        "models.sort_values(by='Score', ascending=False)"
      ]
    },
    {
      "cell_type": "code",
      "execution_count": 43,
      "metadata": {
        "colab": {
          "base_uri": "https://localhost:8080/",
          "height": 296
        },
        "id": "L8ynnS4NmGiX",
        "outputId": "a1fd38ac-6a75-4dc5-f533-4bfc9c272d9a"
      },
      "outputs": [
        {
          "data": {
            "image/png": "[encoded data removed]",
            "text/plain": [
              "<Figure size 432x288 with 2 Axes>"
            ]
          },
          "metadata": {
            "needs_background": "light"
          },
          "output_type": "display_data"
        },
        {
          "name": "stdout",
          "output_type": "stream",
          "text": [
            "Unseen Data For Predictions (1770, 14)\n"
          ]
        }
      ],
      "source": [
        "from sklearn.metrics import confusion_matrix, ConfusionMatrixDisplay\n",
        "predictions = gaussian.predict(X_test)\n",
        "cm = confusion_matrix(Y_test, predictions, labels=decision_tree.classes_)\n",
        "disp = ConfusionMatrixDisplay(confusion_matrix=cm,display_labels=decision_tree.classes_)\n",
        "disp.plot()\n",
        "plt.show()\n",
        "\n",
        "print('Unseen Data For Predictions ' + str(data_unseen.shape))"
      ]
    },
    {
      "cell_type": "code",
      "execution_count": null,
      "metadata": {},
      "outputs": [],
      "source": []
    }
  ],
  "metadata": {
    "colab": {
      "provenance": []
    },
    "kernelspec": {
      "display_name": "Python 3.9.10 64-bit",
      "language": "python",
      "name": "python3"
    },
    "language_info": {
      "codemirror_mode": {
        "name": "ipython",
        "version": 3
      },
      "file_extension": ".py",
      "mimetype": "text/x-python",
      "name": "python",
      "nbconvert_exporter": "python",
      "pygments_lexer": "ipython3",
      "version": "3.9.10"
    },
    "orig_nbformat": 4,
    "vscode": {
      "interpreter": {
        "hash": "8c610ff73f0352eeb1c33feb32bc035ac32035b1a0f3e420daab743d14bbefa5"
      }
    }
  },
  "nbformat": 4,
  "nbformat_minor": 0
}
